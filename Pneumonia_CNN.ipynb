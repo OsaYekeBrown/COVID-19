{
 "cells": [
  {
   "cell_type": "markdown",
   "metadata": {},
   "source": [
    "# This notebook posseses the ability to detect Pneumonia from a lung X-Ray image \n",
    "# **My model's results can potentially even give clues if the the patient is infected by the Novel Corona Virus**\n",
    "**The dataset I used is available on kaggle.**\n",
    "\n",
    "find the dataset here - https://www.kaggle.com/paultimothymooney/chest-xray-pneumonia"
   ]
  },
  {
   "cell_type": "markdown",
   "metadata": {},
   "source": [
    "* The model achieved a **94% accuracy on testing** and **99% on training**.\n",
    "* However, more training can take the training accuracy to approx. 99% and testing accuracy to approx. 94%. \n",
   ]
  },
  {
   "cell_type": "code",
   "execution_count": 1,
   "metadata": {
    "_cell_guid": "79c7e3d0-c299-4dcb-8224-4455121ee9b0",
    "_uuid": "d629ff2d2480ee46fbb7e2d37f6b5fab8052498a"
   },
   "outputs": [
    {
     "name": "stderr",
     "output_type": "stream",
     "text": [
      "Using TensorFlow backend.\n"
     ]
    }
   ],
   "source": [
    "# Importing Libraries \n",
    "\n",
    "import os\n",
    "import numpy as np\n",
    "import pandas as pd\n",
    "from keras.models import Sequential\n",
    "from keras.layers import Conv2D\n",
    "from keras.layers import MaxPooling2D\n",
    "from keras.layers import Dropout\n",
    "from keras.layers import Flatten\n",
    "from keras.layers import Dense\n",
    "from keras.preprocessing.image import ImageDataGenerator, load_img, img_to_array\n",
    "from keras.preprocessing import image\n",
    "import matplotlib.pyplot as plt"
   ]
  },
  {
   "cell_type": "markdown",
   "metadata": {},
   "source": [
    "# Building the CNN"
   ]
  },
  {
   "cell_type": "code",
   "execution_count": 2,
   "metadata": {},
   "outputs": [],
   "source": [
    "# Initialising the CNN\n",
    "classifier = Sequential()\n",
    "\n",
    "# Step 1 - Convolution\n",
    "classifier.add(Conv2D(32, (3, 3), input_shape = (64, 64, 3), activation = 'relu'))\n",
    "\n",
    "# Step 2 - Pooling\n",
    "classifier.add(MaxPooling2D(pool_size = (2, 2)))\n",
    "\n",
    "# Adding a second convolutional layer\n",
    "classifier.add(Conv2D(32, (3, 3), activation = 'relu'))\n",
    "classifier.add(MaxPooling2D(pool_size = (2, 2)))\n",
    "\n",
    "# Step 3 - Flattening\n",
    "classifier.add(Flatten())\n",
    "\n",
    "# Step 4 - Full connection\n",
    "classifier.add(Dense(units = 128, activation = 'relu')) \n",
    "classifier.add(Dropout(0.5))\n",
    "classifier.add(Dense(units = 1, activation = 'sigmoid'))\n",
    "\n",
    "# Compiling the CNN\n",
    "classifier.compile(optimizer = 'adam', loss = 'binary_crossentropy', metrics = ['accuracy'])"
   ]
  },
  {
   "cell_type": "code",
   "execution_count": 3,
   "metadata": {},
   "outputs": [],
   "source": [
    "        #'../input/coronahack-chest-xraydataset/Coronahack-Chest-XRay-Dataset/Coronahack-Chest-XRay-Dataset/test/',\n",
    "        #'../input/coronahack-chest-xraydataset/Coronahack-Chest-XRay-Dataset/Coronahack-Chest-XRay-Dataset/train/',"
   ]
  },
  {
   "cell_type": "code",
   "execution_count": null,
   "metadata": {},
   "outputs": [
    {
     "name": "stdout",
     "output_type": "stream",
     "text": [
      "Found 2655 images belonging to 2 classes.\n",
      "Found 624 images belonging to 2 classes.\n",
      "Epoch 1/20\n",
      "2608/2608 [==============================] - 3326s 1s/step - loss: 0.1915 - accuracy: 0.9246 - val_loss: 0.3727 - val_accuracy: 0.8973\n",
      "Epoch 2/20\n",
      "2608/2608 [==============================] - 3008s 1s/step - loss: 0.1115 - accuracy: 0.9594 - val_loss: 0.2860 - val_accuracy: 0.9025\n",
      "Epoch 3/20\n",
      "2607/2608 [============================>.] - ETA: 1s - loss: 0.0826 - accuracy: 0.9696"
     ]
    },
    {
     "name": "stderr",
     "output_type": "stream",
     "text": [
      "/Users/brownscholar/anaconda3/lib/python3.7/site-packages/keras/utils/data_utils.py:616: UserWarning: The input 11 could not be retrieved. It could be because a worker has died.\n",
      "  UserWarning)\n"
     ]
    },
    {
     "name": "stdout",
     "output_type": "stream",
     "text": [
      "2608/2608 [==============================] - 5086s 2s/step - loss: 0.0826 - accuracy: 0.9696 - val_loss: 0.0679 - val_accuracy: 0.9024\n",
      "Epoch 4/20\n",
      "2608/2608 [==============================] - 2884s 1s/step - loss: 0.0651 - accuracy: 0.9752 - val_loss: 0.4597 - val_accuracy: 0.9197\n",
      "Epoch 5/20\n",
      " 383/2608 [===>..........................] - ETA: 56:43 - loss: 0.0587 - accuracy: 0.9785"
     ]
    },
    {
     "name": "stderr",
     "output_type": "stream",
     "text": [
      "/Users/brownscholar/anaconda3/lib/python3.7/site-packages/keras/utils/data_utils.py:616: UserWarning: The input 51 could not be retrieved. It could be because a worker has died.\n",
      "  UserWarning)\n"
     ]
    },
    {
     "name": "stdout",
     "output_type": "stream",
     "text": [
      "2608/2608 [==============================] - 3383s 1s/step - loss: 0.0530 - accuracy: 0.9806 - val_loss: 0.5950 - val_accuracy: 0.9279\n",
      "Epoch 6/20\n",
      " 132/2608 [>.............................] - ETA: 1:19:42 - loss: 0.0466 - accuracy: 0.9832"
     ]
    },
    {
     "name": "stderr",
     "output_type": "stream",
     "text": [
      "/Users/brownscholar/anaconda3/lib/python3.7/site-packages/keras/utils/data_utils.py:616: UserWarning: The input 52 could not be retrieved. It could be because a worker has died.\n",
      "  UserWarning)\n"
     ]
    },
    {
     "name": "stdout",
     "output_type": "stream",
     "text": [
      "2608/2608 [==============================] - 37309s 14s/step - loss: 0.0446 - accuracy: 0.9837 - val_loss: 0.0473 - val_accuracy: 0.9169\n",
      "Epoch 7/20\n",
      "2608/2608 [==============================] - 2113s 810ms/step - loss: 0.0378 - accuracy: 0.9864 - val_loss: 5.7334e-04 - val_accuracy: 0.9169\n",
      "Epoch 8/20\n",
      "2608/2608 [==============================] - 2528s 969ms/step - loss: 0.0323 - accuracy: 0.9881 - val_loss: 0.6899 - val_accuracy: 0.9323\n",
      "Epoch 9/20\n",
      "2608/2608 [==============================] - 2745s 1s/step - loss: 0.0291 - accuracy: 0.9893 - val_loss: 0.0128 - val_accuracy: 0.9328\n",
      "Epoch 10/20\n",
      "2608/2608 [==============================] - 3099s 1s/step - loss: 0.0261 - accuracy: 0.9906 - val_loss: 1.1446 - val_accuracy: 0.9201\n",
      "Epoch 11/20\n",
      "2608/2608 [==============================] - 7516s 3s/step - loss: 0.0257 - accuracy: 0.9910 - val_loss: 0.7224 - val_accuracy: 0.9182\n",
      "Epoch 12/20\n",
      "2608/2608 [==============================] - 2582s 990ms/step - loss: 0.0233 - accuracy: 0.9917 - val_loss: 0.5388 - val_accuracy: 0.9200\n",
      "Epoch 13/20\n",
      "2608/2608 [==============================] - 3232s 1s/step - loss: 0.0206 - accuracy: 0.9923 - val_loss: 0.2749 - val_accuracy: 0.9168\n",
      "Epoch 14/20\n",
      " 708/2608 [=======>......................] - ETA: 56:41 - loss: 0.0224 - accuracy: 0.9920"
     ]
    },
    {
     "name": "stderr",
     "output_type": "stream",
     "text": [
      "/Users/brownscholar/anaconda3/lib/python3.7/site-packages/keras/utils/data_utils.py:616: UserWarning: The input 40 could not be retrieved. It could be because a worker has died.\n",
      "  UserWarning)\n"
     ]
    },
    {
     "name": "stdout",
     "output_type": "stream",
     "text": [
      " 715/2608 [=======>......................] - ETA: 59:09 - loss: 0.0224 - accuracy: 0.9920"
     ]
    },
    {
     "name": "stderr",
     "output_type": "stream",
     "text": [
      "/Users/brownscholar/anaconda3/lib/python3.7/site-packages/keras/utils/data_utils.py:616: UserWarning: The input 80 could not be retrieved. It could be because a worker has died.\n",
      "  UserWarning)\n"
     ]
    },
    {
     "name": "stdout",
     "output_type": "stream",
     "text": [
      "2608/2608 [==============================] - 26733s 10s/step - loss: 0.0204 - accuracy: 0.9924 - val_loss: 1.3329 - val_accuracy: 0.9164\n",
      "Epoch 15/20\n",
      "2608/2608 [==============================] - 54564s 21s/step - loss: 0.0184 - accuracy: 0.9934 - val_loss: 0.4189 - val_accuracy: 0.9232\n",
      "Epoch 16/20\n",
      "2608/2608 [==============================] - 4790s 2s/step - loss: 0.0188 - accuracy: 0.9934 - val_loss: 0.4333 - val_accuracy: 0.9119\n",
      "Epoch 17/20\n",
      "1712/2608 [==================>...........] - ETA: 23:00 - loss: 0.0177 - accuracy: 0.9935"
     ]
    },
    {
     "name": "stderr",
     "output_type": "stream",
     "text": [
      "/Users/brownscholar/anaconda3/lib/python3.7/site-packages/keras/utils/data_utils.py:616: UserWarning: The input 79 could not be retrieved. It could be because a worker has died.\n",
      "  UserWarning)\n"
     ]
    },
    {
     "name": "stdout",
     "output_type": "stream",
     "text": [
      "1720/2608 [==================>...........] - ETA: 23:19 - loss: 0.0177 - accuracy: 0.9936"
     ]
    }
   ],
   "source": [
    "#PART 2 - FITTING CNN TO IMAGES \n",
    "train_datagen = ImageDataGenerator(\n",
    "        rescale=1./255,\n",
    "        shear_range=0.2,\n",
    "        zoom_range=0.2,\n",
    "        horizontal_flip=True)\n",
    "\n",
    "test_datagen = ImageDataGenerator(rescale = 1./255)\n",
    "\n",
    "training_set = train_datagen.flow_from_directory(\n",
    "        '/Users/brownscholar/Desktop/COVID_PROJECT/chest_xray/train',\n",
    "        target_size=(64, 64),\n",
    "        batch_size=32,\n",
    "        class_mode='binary')\n",
    "\n",
    "testing_set = test_datagen.flow_from_directory(\n",
    "        '/Users/brownscholar/Desktop/COVID_PROJECT/chest_xray/test',\n",
    "        target_size=(64, 64),\n",
    "        batch_size=32,\n",
    "        class_mode='binary')\n",
    "\n",
    "classifier.fit_generator(\n",
    "        training_set,\n",
    "        steps_per_epoch=2608,\n",
    "        epochs=20,\n",
    "        validation_data=testing_set,\n",
    "        validation_steps=624)"
   ]
  },
  {
   "cell_type": "code",
   "execution_count": null,
   "metadata": {},
   "outputs": [],
   "source": [
    "# evaluate the model\n"
   ]
  },
  {
   "cell_type": "code",
   "execution_count": null,
   "metadata": {},
   "outputs": [],
   "source": [
    "#Validation\n",
    "test_image = image.load_img('/Users/brownscholar/Desktop/COVID_PROJECT/chest_xray/val/NORMAL/NORMAL2-IM-1442-0001.jpeg', target_size = (64, 64))\n",
    "test_image = image.img_to_array(test_image)\n",
    "test_image = np.expand_dims(test_image, axis = 0)\n",
    "result = classifier.predict(test_image)\n",
    "training_set.class_indices\n",
    "if result[0][0] == 1:\n",
    "    prediction = 'Normal'\n",
    "else:\n",
    "    prediction = 'Infected'\n",
    "print(prediction)\n",
    "print(result[0][0])\n",
    "classifier.predict_proba(test_image)"
   ]
  },
  {
   "cell_type": "code",
   "execution_count": null,
   "metadata": {},
   "outputs": [],
   "source": []
  },
  {
   "cell_type": "code",
   "execution_count": null,
   "metadata": {},
   "outputs": [],
   "source": [
    "validation_set = test_datagen.flow_from_directory(\n",
    "        '/Users/brownscholar/Desktop/COVID_PROJECT/chest_xray/val',\n",
    "        target_size=(64, 64),\n",
    "        batch_size=32,\n",
    "        class_mode='binary')"
   ]
  },
  {
   "cell_type": "code",
   "execution_count": null,
   "metadata": {},
   "outputs": [],
   "source": [
    "test_steps_per_epoch = np.math.ceil(validation_set.samples / validation_set.batch_size)\n",
    "\n",
    "predictions = classifier.predict_generator(validation_set, steps=test_steps_per_epoch)\n",
    "\n",
    "# Get most likely class\n",
    "predicted_classes = np.argmax(predictions, axis=1)\n",
    "\n"
   ]
  },
  {
   "cell_type": "code",
   "execution_count": null,
   "metadata": {},
   "outputs": [],
   "source": [
    "true_classes = validation_set.classes\n",
    "class_labels = list(validation_set.class_indices.keys())   "
   ]
  },
  {
   "cell_type": "code",
   "execution_count": null,
   "metadata": {},
   "outputs": [],
   "source": []
  },
  {
   "cell_type": "code",
   "execution_count": null,
   "metadata": {},
   "outputs": [],
   "source": [
    "import sklearn.metrics as metrics\n",
    "\n",
    "\n",
    "# list all data in history\n",
    "\n",
    "history = classifier.history"
   ]
  },
  {
   "cell_type": "code",
   "execution_count": null,
   "metadata": {},
   "outputs": [],
   "source": [
    "import matplotlib.pyplot as plt\n",
    "plt.style.use('ggplot')\n",
    "\n",
    "# summarize history for accuracy\n",
    "\n",
    "plt.plot(history.history['accuracy'],color='black')\n",
    "plt.plot(history.history['val_accuracy'],color='tomato')\n",
    "\n",
    "plt.title(\"CNN Accuracy Throughout Epochs\", fontname='Ubuntu', fontsize=14)\n",
    "\n",
    "plt.ylabel('Accuracy', fontname='Ubuntu', fontsize=14, )\n",
    "plt.xlim(0,18)\n",
    "plt.xlabel('Epoch',fontname='Ubuntu', fontsize=14)\n",
    "plt.legend(['Training Acc.', 'Testing Acc.'], loc='upper left')\n",
    "plt.show()\n",
    "\n",
    "# summarize history for loss\n",
    "\n",
    "plt.plot(history.history['loss'], color='black')\n",
    "plt.plot(history.history['val_loss'],color='tomato')\n",
    "\n",
    "plt.title(\"CNN Loss Throughout Epochs\", fontname='Ubuntu', fontsize=14)\n",
    "\n",
    "plt.ylabel('Loss',fontname='Ubuntu', fontsize=14)\n",
    "plt.ylim(0,1)\n",
    "plt.xlim(0,18)\n",
    "plt.xlabel('Epoch',fontname='Ubuntu', fontsize=14)\n",
    "plt.legend(['Training Loss', 'Testing Loss'], loc='upper left')\n",
    "plt.plot([1, 2, 3, 4])\n",
    "\n",
    "plt.show()\n"
   ]
  },
  {
   "cell_type": "code",
   "execution_count": null,
   "metadata": {},
   "outputs": [],
   "source": [
    "import tensorflow as tf\n",
    "\n",
    "tf.keras.utils.plot_model(\n",
    "    classifier, to_file='CLASSIFIER.png', show_shapes=True, show_layer_names=False,\n",
    "    rankdir='TB', expand_nested=True, dpi=90)"
   ]
  },
  {
   "cell_type": "code",
   "execution_count": null,
   "metadata": {},
   "outputs": [],
   "source": []
  },
  {
   "cell_type": "code",
   "execution_count": null,
   "metadata": {},
   "outputs": [],
   "source": [
    "from ann_visualizer.visualize import ann_viz;\n",
    "\n",
    "ann_viz(classifier, title=\"My first neural network\")"
   ]
  },
  {
   "cell_type": "code",
   "execution_count": null,
   "metadata": {},
   "outputs": [],
   "source": [
    "print(true_classes)\n",
    "print(predicted_classes)"
   ]
  },
  {
   "cell_type": "code",
   "execution_count": null,
   "metadata": {},
   "outputs": [],
   "source": [
    "import anvil.server\n",
    "\n",
    "anvil.server.connect(\"VCAUJZV7PUSKKOVLTJMKIJR3-A2CYDTYDTROBZ6MK\")\n",
    "\n",
    "import anvil.media \n",
    "from PIL import *\n",
    "import PIL.Image\n",
    "\n",
    "@anvil.server.callable\n",
    "def classify_image(file):\n",
    "    with anvil.media.TempFile(file) as filename:\n",
    "        img = image.load_img(filename)\n",
    "        img = img.resize((64,64), resample=PIL.Image.BICUBIC)\n",
    "    \n",
    "        arr = img_to_array(img)\n",
    "        arr = np.expand_dims(arr, axis = 0)\n",
    "        arr /= 255.0\n",
    "\n",
    "        score = classifier.predict(arr)\n",
    "\n",
    "        return ('NO PNEUMONIA' if score == 1.0 else 'INFECTED WITH PNEUMONIA; POSSIBILY COVID-19')\n"
   ]
  },
  {
   "cell_type": "code",
   "execution_count": null,
   "metadata": {},
   "outputs": [],
   "source": []
  }
 ],
 "metadata": {
  "kernelspec": {
   "display_name": "Python 3",
   "language": "python",
   "name": "python3"
  },
  "language_info": {
   "codemirror_mode": {
    "name": "ipython",
    "version": 3
   },
   "file_extension": ".py",
   "mimetype": "text/x-python",
   "name": "python",
   "nbconvert_exporter": "python",
   "pygments_lexer": "ipython3",
   "version": "3.7.3"
  }
 },
 "nbformat": 4,
 "nbformat_minor": 4
}
